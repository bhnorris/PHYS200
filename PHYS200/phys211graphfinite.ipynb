{
 "metadata": {
  "name": "phys211graphfinite"
 },
 "nbformat": 3,
 "worksheets": [
  {
   "cells": [
    {
     "cell_type": "code",
     "collapsed": true,
     "input": [
      "import scipy"
     ],
     "language": "python",
     "outputs": [],
     "prompt_number": 1
    },
    {
     "cell_type": "code",
     "collapsed": true,
     "input": [
      "plot?"
     ],
     "language": "python",
     "outputs": [],
     "prompt_number": 2
    },
    {
     "cell_type": "code",
     "collapsed": true,
     "input": [
      "import matplotlib"
     ],
     "language": "python",
     "outputs": [],
     "prompt_number": 3
    },
    {
     "cell_type": "code",
     "collapsed": false,
     "input": [
      "x = 1",
      "y = sqrt(x) / sqrt(100 - x) - sqrt(100-x) / sqrt(x) - 2 / tan(1.026 * sqrt(x))"
     ],
     "language": "python",
     "outputs": [],
     "prompt_number": 7
    },
    {
     "cell_type": "code",
     "collapsed": true,
     "input": [],
     "language": "python",
     "outputs": [],
     "prompt_number": 9
    },
    {
     "cell_type": "code",
     "collapsed": false,
     "input": [
      "def drange(start, stop, step):",
      "    r = start",
      "    while r < stop:",
      "        yield r",
      "        r += step",
      "        ",
      "dob = drange(0, 100.0, 0.001)",
      "z = []",
      "w = []",
      "x = 1.0",
      "for d in dob:",
      "    x = x + d",
      "    y = sqrt(x) / sqrt(100 - x) - sqrt(100-x) / sqrt(x) - 2 / tan(1.026 * sqrt(x))",
      "    z = z + [x]",
      "    w = w + [y]",
      "    if (y > -.1 and y < .1):",
      "        print (x, y)",
      "        ",
      "plot(z, w)"
     ],
     "language": "python",
     "outputs": [
      {
       "output_type": "stream",
       "stream": "stdout",
       "text": [
        "(6.5649999999999995, 0.045064285116974023)",
        "(25.753000000000004, -0.031170596719877652)",
        "(25.976000000000003, 0.040885998960516146)",
        "(56.27800000000003, -0.063619099538402446)",
        "(56.611000000000026, -0.0035028595572990096)",
        "(56.94500000000003, 0.056409094071601218)",
        "(93.66500000000009, -0.033446501760595826)"
       ]
      },
      {
       "output_type": "pyout",
       "prompt_number": 2,
       "text": [
        "[<matplotlib.lines.Line2D at 0xb6dae8c>]"
       ]
      },
      {
       "output_type": "display_data",
       "png": "[encoded data removed]"
      }
     ],
     "prompt_number": 2
    },
    {
     "cell_type": "code",
     "collapsed": true,
     "input": [],
     "language": "python",
     "outputs": []
    }
   ]
  }
 ]
}