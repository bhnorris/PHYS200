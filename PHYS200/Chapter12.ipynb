{
 "metadata": {
  "name": "Chapter12"
 },
 "nbformat": 3,
 "worksheets": [
  {
   "cells": [
    {
     "cell_type": "code",
     "collapsed": true,
     "input": [
      "def sumall(*args):",
      "    i = len(args)",
      "    ndx = 1",
      "    while ndx < i:",
      "        val = sum(args[ndx-1], args[ndx])",
      "        ndx += 1",
      "    return val",
      ""
     ],
     "language": "python",
     "outputs": [],
     "prompt_number": 1
    },
    {
     "cell_type": "code",
     "collapsed": true,
     "input": [
      "tup = 1, 2, 3, 4, 5"
     ],
     "language": "python",
     "outputs": [],
     "prompt_number": 2
    },
    {
     "cell_type": "code",
     "collapsed": false,
     "input": [
      "sumall(tup)"
     ],
     "language": "python",
     "outputs": [
      {
       "ename": "UnboundLocalError",
       "evalue": "local variable 'val' referenced before assignment",
       "output_type": "pyerr",
       "traceback": [
        "\u001b[1;31m---------------------------------------------------------------------------\u001b[0m\n\u001b[1;31mUnboundLocalError\u001b[0m                         Traceback (most recent call last)",
        "\u001b[1;32m/home/ben/PHYS200/<ipython-input-3-ad4423a1a52b>\u001b[0m in \u001b[0;36m<module>\u001b[1;34m()\u001b[0m\n\u001b[1;32m----> 1\u001b[1;33m \u001b[0msumall\u001b[0m\u001b[1;33m(\u001b[0m\u001b[0mtup\u001b[0m\u001b[1;33m)\u001b[0m\u001b[1;33m\u001b[0m\u001b[0m\n\u001b[0m",
        "\u001b[1;32m/home/ben/PHYS200/<ipython-input-1-07acbd3a6b37>\u001b[0m in \u001b[0;36msumall\u001b[1;34m(*args)\u001b[0m\n\u001b[0;32m      5\u001b[0m         \u001b[0mval\u001b[0m \u001b[1;33m=\u001b[0m \u001b[0msum\u001b[0m\u001b[1;33m(\u001b[0m\u001b[0margs\u001b[0m\u001b[1;33m[\u001b[0m\u001b[0mndx\u001b[0m\u001b[1;33m-\u001b[0m\u001b[1;36m1\u001b[0m\u001b[1;33m]\u001b[0m\u001b[1;33m,\u001b[0m \u001b[0margs\u001b[0m\u001b[1;33m[\u001b[0m\u001b[0mndx\u001b[0m\u001b[1;33m]\u001b[0m\u001b[1;33m)\u001b[0m\u001b[1;33m\u001b[0m\u001b[0m\n\u001b[0;32m      6\u001b[0m         \u001b[0mndx\u001b[0m \u001b[1;33m+=\u001b[0m \u001b[1;36m1\u001b[0m\u001b[1;33m\u001b[0m\u001b[0m\n\u001b[1;32m----> 7\u001b[1;33m     \u001b[1;32mreturn\u001b[0m \u001b[0mval\u001b[0m\u001b[1;33m\u001b[0m\u001b[0m\n\u001b[0m\u001b[0;32m      8\u001b[0m \u001b[1;33m\u001b[0m\u001b[0m\n",
        "\u001b[1;31mUnboundLocalError\u001b[0m: local variable 'val' referenced before assignment"
       ]
      }
     ],
     "prompt_number": 3
    },
    {
     "cell_type": "code",
     "collapsed": true,
     "input": [
      "def sumall(*args):",
      "    i = len(args)",
      "    ndx = 1",
      "    val = 0",
      "    while ndx < i:",
      "        val = sum(args[ndx-1], args[ndx])",
      "        ndx += 1",
      "    return val"
     ],
     "language": "python",
     "outputs": [],
     "prompt_number": 4
    },
    {
     "cell_type": "code",
     "collapsed": false,
     "input": [
      "sumall(tup)"
     ],
     "language": "python",
     "outputs": [
      {
       "output_type": "pyout",
       "prompt_number": 5,
       "text": [
        "0"
       ]
      }
     ],
     "prompt_number": 5
    },
    {
     "cell_type": "code",
     "collapsed": true,
     "input": [
      "def sumall(*args):",
      "    return sum(args)",
      ""
     ],
     "language": "python",
     "outputs": [],
     "prompt_number": 6
    },
    {
     "cell_type": "code",
     "collapsed": false,
     "input": [
      "sumall(1, 2, 3, 4, 5)"
     ],
     "language": "python",
     "outputs": [
      {
       "output_type": "pyout",
       "prompt_number": 7,
       "text": [
        "15"
       ]
      }
     ],
     "prompt_number": 7
    },
    {
     "cell_type": "code",
     "collapsed": true,
     "input": [
      "def sortByLength(words):",
      "    t = []",
      "    for word in words:",
      "        t.append((len(word), random.randint(0, len(words)), word))",
      "    ",
      "    t.sort(reverse=True)",
      "    ",
      "    res = []",
      "    for length, rand, word in t:",
      "        res.append(word)",
      "    return res",
      ""
     ],
     "language": "python",
     "outputs": [],
     "prompt_number": 8
    },
    {
     "cell_type": "code",
     "collapsed": false,
     "input": [
      "sort_by_length(['cat', 'elephant', 'dog', 'hill', 'the', 'cow', 'fan', 'as', 'birds', 'swallow'])"
     ],
     "language": "python",
     "outputs": [
      {
       "ename": "NameError",
       "evalue": "name 'sort_by_length' is not defined",
       "output_type": "pyerr",
       "traceback": [
        "\u001b[1;31m---------------------------------------------------------------------------\u001b[0m\n\u001b[1;31mNameError\u001b[0m                                 Traceback (most recent call last)",
        "\u001b[1;32m/home/ben/PHYS200/<ipython-input-9-d1fa6411a2c1>\u001b[0m in \u001b[0;36m<module>\u001b[1;34m()\u001b[0m\n\u001b[1;32m----> 1\u001b[1;33m \u001b[0msort_by_length\u001b[0m\u001b[1;33m(\u001b[0m\u001b[1;33m[\u001b[0m\u001b[1;34m'cat'\u001b[0m\u001b[1;33m,\u001b[0m \u001b[1;34m'elephant'\u001b[0m\u001b[1;33m,\u001b[0m \u001b[1;34m'dog'\u001b[0m\u001b[1;33m,\u001b[0m \u001b[1;34m'hill'\u001b[0m\u001b[1;33m,\u001b[0m \u001b[1;34m'the'\u001b[0m\u001b[1;33m,\u001b[0m \u001b[1;34m'cow'\u001b[0m\u001b[1;33m,\u001b[0m \u001b[1;34m'fan'\u001b[0m\u001b[1;33m,\u001b[0m \u001b[1;34m'as'\u001b[0m\u001b[1;33m,\u001b[0m \u001b[1;34m'birds'\u001b[0m\u001b[1;33m,\u001b[0m \u001b[1;34m'swallow'\u001b[0m\u001b[1;33m]\u001b[0m\u001b[1;33m)\u001b[0m\u001b[1;33m\u001b[0m\u001b[0m\n\u001b[0m",
        "\u001b[1;31mNameError\u001b[0m: name 'sort_by_length' is not defined"
       ]
      }
     ],
     "prompt_number": 9
    },
    {
     "cell_type": "code",
     "collapsed": false,
     "input": [
      "sortByLength(['cat', 'elephant', 'dog', 'hill', 'the', 'cow', 'fan', 'as', 'birds', 'swallow'])"
     ],
     "language": "python",
     "outputs": [
      {
       "output_type": "pyout",
       "prompt_number": 10,
       "text": [
        "['elephant',",
        " 'swallow',",
        " 'birds',",
        " 'hill',",
        " 'dog',",
        " 'cat',",
        " 'fan',",
        " 'cow',",
        " 'the',",
        " 'as']"
       ]
      }
     ],
     "prompt_number": 10
    },
    {
     "cell_type": "code",
     "collapsed": true,
     "input": [
      "def mostFrequent(s):",
      "    s = s.lower()",
      "    s = s.replace(' ', '')",
      "    s = s.replace('.', '')",
      "    s = s.replace(',', '')",
      "    d = dict()",
      "    for i in s:",
      "        d[i] = d.get(i, 0) + 1",
      "    t = []",
      "    for key in d:",
      "        t.append((d[key], key))",
      "    t.sort(reverse = True)",
      "    for freq, let in t:",
      "        print str(let) + ': ' + str(freq)",
      "",
      "",
      "    "
     ],
     "language": "python",
     "outputs": [],
     "prompt_number": 11
    },
    {
     "cell_type": "code",
     "collapsed": false,
     "input": [
      "mostFrequent('Encouraged by these successes, Nintendo soon turned its attention to the North American market.')"
     ],
     "language": "python",
     "outputs": [
      {
       "output_type": "stream",
       "stream": "stdout",
       "text": [
        "e: 12",
        "t: 11",
        "n: 10",
        "s: 7",
        "o: 7",
        "r: 5",
        "a: 5",
        "i: 4",
        "c: 4",
        "u: 3",
        "h: 3",
        "d: 3",
        "m: 2",
        "y: 1",
        "k: 1",
        "g: 1",
        "b: 1"
       ]
      }
     ],
     "prompt_number": 12
    },
    {
     "cell_type": "code",
     "collapsed": false,
     "input": [
      "mostFrequent('que al dicho precio monta el dicho libro docientos y noventa maravedis y medio')"
     ],
     "language": "python",
     "outputs": [
      {
       "output_type": "stream",
       "stream": "stdout",
       "text": [
        "o: 9",
        "i: 7",
        "e: 7",
        "d: 5",
        "a: 5",
        "n: 4",
        "c: 4",
        "t: 3",
        "r: 3",
        "m: 3",
        "l: 3",
        "y: 2",
        "v: 2",
        "s: 2",
        "h: 2",
        "u: 1",
        "q: 1",
        "p: 1",
        "b: 1"
       ]
      }
     ],
     "prompt_number": 13
    },
    {
     "cell_type": "code",
     "collapsed": true,
     "input": [],
     "language": "python",
     "outputs": []
    }
   ]
  }
 ]
}